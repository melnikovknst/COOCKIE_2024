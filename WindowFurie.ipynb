{
  "nbformat": 4,
  "nbformat_minor": 0,
  "metadata": {
    "colab": {
      "provenance": [],
      "authorship_tag": "ABX9TyPlp+8zi9ml3wHnQilodQ1z",
      "include_colab_link": true
    },
    "kernelspec": {
      "name": "python3",
      "display_name": "Python 3"
    },
    "language_info": {
      "name": "python"
    }
  },
  "cells": [
    {
      "cell_type": "markdown",
      "metadata": {
        "id": "view-in-github",
        "colab_type": "text"
      },
      "source": [
        "<a href=\"https://colab.research.google.com/github/melnikovknst/COOKIE_2024/blob/Furie/WindowFurie.ipynb\" target=\"_parent\"><img src=\"https://colab.research.google.com/assets/colab-badge.svg\" alt=\"Open In Colab\"/></a>"
      ]
    },
    {
      "cell_type": "code",
      "source": [
        "from google.colab import drive\n",
        "drive.mount('/content/drive/')"
      ],
      "metadata": {
        "colab": {
          "base_uri": "https://localhost:8080/"
        },
        "id": "r5llhNIigqUm",
        "outputId": "49aff1d3-8881-4a05-bde9-c4a9e085f2ce"
      },
      "execution_count": null,
      "outputs": [
        {
          "output_type": "stream",
          "name": "stdout",
          "text": [
            "Mounted at /content/drive/\n"
          ]
        }
      ]
    },
    {
      "cell_type": "code",
      "execution_count": 9,
      "metadata": {
        "colab": {
          "base_uri": "https://localhost:8080/",
          "height": 315
        },
        "id": "d54FoatxGmZ7",
        "outputId": "21e3a330-772e-48e3-931a-3455624e74fb"
      },
      "outputs": [
        {
          "output_type": "error",
          "ename": "ValueError",
          "evalue": "not enough values to unpack (expected 2, got 1)",
          "traceback": [
            "\u001b[0;31m---------------------------------------------------------------------------\u001b[0m",
            "\u001b[0;31mValueError\u001b[0m                                Traceback (most recent call last)",
            "\u001b[0;32m<ipython-input-9-9424d0dc6fac>\u001b[0m in \u001b[0;36m<cell line: 66>\u001b[0;34m()\u001b[0m\n\u001b[1;32m     64\u001b[0m \u001b[0mfile_path\u001b[0m \u001b[0;34m=\u001b[0m \u001b[0;34m'/content/drive/MyDrive/Colab Notebooks/2024_6_1 17_12_29.npy'\u001b[0m  \u001b[0;31m# Замените на путь к вашему numpy файлу\u001b[0m\u001b[0;34m\u001b[0m\u001b[0;34m\u001b[0m\u001b[0m\n\u001b[1;32m     65\u001b[0m \u001b[0;34m\u001b[0m\u001b[0m\n\u001b[0;32m---> 66\u001b[0;31m \u001b[0mapply_stft_to_numpy_file\u001b[0m\u001b[0;34m(\u001b[0m\u001b[0mfile_path\u001b[0m\u001b[0;34m)\u001b[0m\u001b[0;34m\u001b[0m\u001b[0;34m\u001b[0m\u001b[0m\n\u001b[0m",
            "\u001b[0;32m<ipython-input-9-9424d0dc6fac>\u001b[0m in \u001b[0;36mapply_stft_to_numpy_file\u001b[0;34m(file_path, n_fft, hop_length)\u001b[0m\n\u001b[1;32m     10\u001b[0m \u001b[0;34m\u001b[0m\u001b[0m\n\u001b[1;32m     11\u001b[0m     \u001b[0;31m# Получаем число образцов и каналов\u001b[0m\u001b[0;34m\u001b[0m\u001b[0;34m\u001b[0m\u001b[0m\n\u001b[0;32m---> 12\u001b[0;31m     \u001b[0mnum_samples\u001b[0m\u001b[0;34m,\u001b[0m \u001b[0mnum_channels\u001b[0m \u001b[0;34m=\u001b[0m \u001b[0mdata\u001b[0m\u001b[0;34m.\u001b[0m\u001b[0mshape\u001b[0m\u001b[0;34m\u001b[0m\u001b[0;34m\u001b[0m\u001b[0m\n\u001b[0m\u001b[1;32m     13\u001b[0m \u001b[0;34m\u001b[0m\u001b[0m\n\u001b[1;32m     14\u001b[0m     \u001b[0;31m# Рассчитываем число временных фреймов и частотных бинов\u001b[0m\u001b[0;34m\u001b[0m\u001b[0;34m\u001b[0m\u001b[0m\n",
            "\u001b[0;31mValueError\u001b[0m: not enough values to unpack (expected 2, got 1)"
          ]
        }
      ],
      "source": [
        "import numpy as np\n",
        "import librosa\n",
        "import os\n",
        "import matplotlib.pyplot as plt\n",
        "import librosa.display\n",
        "\n",
        "def apply_stft_to_numpy_file(file_path, n_fft=512, hop_length=256):\n",
        "    # Загружаем numpy файл (предположим, что это двумерный массив для 1 секунды с 4 каналами)\n",
        "    data = np.load(file_path)  # Форма данных: (num_samples, num_channels)\n",
        "\n",
        "    # Получаем число образцов и каналов\n",
        "    num_samples, num_channels = data.shape\n",
        "\n",
        "    # Рассчитываем число временных фреймов и частотных бинов\n",
        "    num_time_frames = (num_samples - n_fft) // hop_length + 1\n",
        "    num_frequency_bins = n_fft // 2 + 1\n",
        "\n",
        "    # Создаем пустой массив для хранения результатов STFT\n",
        "    stft_data = np.zeros((num_time_frames, num_frequency_bins, num_channels))\n",
        "\n",
        "    # Применяем STFT для каждого канала\n",
        "    for channel_idx in range(num_channels):\n",
        "        channel_data = data[:, channel_idx]\n",
        "\n",
        "        # Применяем STFT для канала (используем librosa для правильной работы с окнами и сдвигами)\n",
        "        stft_result = librosa.stft(channel_data, n_fft=n_fft, hop_length=hop_length)\n",
        "\n",
        "        # Берем амплитуду (модуль спектра) и сохраняем\n",
        "        stft_data[:, :, channel_idx] = np.abs(stft_result.T)  # Транспонируем для согласования формы\n",
        "\n",
        "    # Получаем имя файла без расширения\n",
        "    base_name = os.path.splitext(os.path.basename(file_path))[0]\n",
        "\n",
        "    # Формируем путь для сохранения нового numpy файла\n",
        "    output_path = f\"{base_name}_stft.npy\"\n",
        "\n",
        "    # Сохраняем данные в файл .npy\n",
        "    np.save(output_path, {\n",
        "        'num_samples': num_samples,\n",
        "        'num_time_frames': num_time_frames,\n",
        "        'num_frequency_bins': num_frequency_bins,\n",
        "        'stft_data': stft_data\n",
        "    })\n",
        "\n",
        "    print(f\"Данные сохранены в файл: {output_path}\")\n",
        "\n",
        "    # Визуализируем результаты STFT для каждого канала\n",
        "    plt.figure(figsize=(15, 10))\n",
        "\n",
        "    # Пройдемся по всем каналам и отобразим спектр для каждого\n",
        "    for channel_idx in range(num_channels):\n",
        "        plt.subplot(2, 2, channel_idx + 1)  # Создаем 2x2 подграфики для 4 каналов\n",
        "        librosa.display.specshow(librosa.amplitude_to_db(stft_data[:, :, channel_idx], ref=np.max),\n",
        "                                 aspect='auto', origin='lower', cmap='inferno')\n",
        "        plt.colorbar(label='Амплитуда (дБ)')\n",
        "        plt.title(f'STFT спектр для канала {channel_idx + 1}')\n",
        "        plt.xlabel('Временные фреймы')\n",
        "        plt.ylabel('Частотные бины')\n",
        "\n",
        "    plt.tight_layout()\n",
        "    plt.show()\n",
        "\n",
        "# Пример использования:\n",
        "file_path = '/content/drive/MyDrive/Colab Notebooks/2024_6_1 17_12_29.npy'  # Замените на путь к вашему numpy файлу\n",
        "\n",
        "apply_stft_to_numpy_file(file_path)\n"
      ]
    }
  ]
}