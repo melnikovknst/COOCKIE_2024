{
  "nbformat": 4,
  "nbformat_minor": 0,
  "metadata": {
    "colab": {
      "provenance": [],
      "authorship_tag": "ABX9TyP9hYcnT7ag4N4K8y5c5NBC",
      "include_colab_link": true
    },
    "kernelspec": {
      "name": "python3",
      "display_name": "Python 3"
    },
    "language_info": {
      "name": "python"
    }
  },
  "cells": [
    {
      "cell_type": "markdown",
      "metadata": {
        "id": "view-in-github",
        "colab_type": "text"
      },
      "source": [
        "<a href=\"https://colab.research.google.com/github/melnikovknst/COOKIE_2024/blob/Furie/WindowFurie.ipynb\" target=\"_parent\"><img src=\"https://colab.research.google.com/assets/colab-badge.svg\" alt=\"Open In Colab\"/></a>"
      ]
    },
    {
      "cell_type": "code",
      "execution_count": 1,
      "metadata": {
        "colab": {
          "base_uri": "https://localhost:8080/",
          "height": 321
        },
        "id": "d54FoatxGmZ7",
        "outputId": "b73e1e4c-02b5-4301-9b49-7da4be533ee9"
      },
      "outputs": [
        {
          "output_type": "error",
          "ename": "FileNotFoundError",
          "evalue": "[Errno 2] No such file or directory: 'path_to_your_input_file.npy'",
          "traceback": [
            "\u001b[0;31m---------------------------------------------------------------------------\u001b[0m",
            "\u001b[0;31mFileNotFoundError\u001b[0m                         Traceback (most recent call last)",
            "\u001b[0;32m<ipython-input-1-8d112dd37ad9>\u001b[0m in \u001b[0;36m<cell line: 43>\u001b[0;34m()\u001b[0m\n\u001b[1;32m     41\u001b[0m \u001b[0moutput_path\u001b[0m \u001b[0;34m=\u001b[0m \u001b[0;34m'path_to_your_output_file.npy'\u001b[0m  \u001b[0;31m# Замените на путь для сохранения результата\u001b[0m\u001b[0;34m\u001b[0m\u001b[0;34m\u001b[0m\u001b[0m\n\u001b[1;32m     42\u001b[0m \u001b[0;34m\u001b[0m\u001b[0m\n\u001b[0;32m---> 43\u001b[0;31m \u001b[0mapply_stft_to_numpy_file\u001b[0m\u001b[0;34m(\u001b[0m\u001b[0mfile_path\u001b[0m\u001b[0;34m,\u001b[0m \u001b[0moutput_path\u001b[0m\u001b[0;34m)\u001b[0m\u001b[0;34m\u001b[0m\u001b[0;34m\u001b[0m\u001b[0m\n\u001b[0m",
            "\u001b[0;32m<ipython-input-1-8d112dd37ad9>\u001b[0m in \u001b[0;36mapply_stft_to_numpy_file\u001b[0;34m(file_path, output_path, n_fft, hop_length)\u001b[0m\n\u001b[1;32m      4\u001b[0m \u001b[0;32mdef\u001b[0m \u001b[0mapply_stft_to_numpy_file\u001b[0m\u001b[0;34m(\u001b[0m\u001b[0mfile_path\u001b[0m\u001b[0;34m,\u001b[0m \u001b[0moutput_path\u001b[0m\u001b[0;34m,\u001b[0m \u001b[0mn_fft\u001b[0m\u001b[0;34m=\u001b[0m\u001b[0;36m512\u001b[0m\u001b[0;34m,\u001b[0m \u001b[0mhop_length\u001b[0m\u001b[0;34m=\u001b[0m\u001b[0;36m256\u001b[0m\u001b[0;34m)\u001b[0m\u001b[0;34m:\u001b[0m\u001b[0;34m\u001b[0m\u001b[0;34m\u001b[0m\u001b[0m\n\u001b[1;32m      5\u001b[0m     \u001b[0;31m# Загрузка numpy файла (предположим, что это одномерный массив для 1 секунды с 4 каналами)\u001b[0m\u001b[0;34m\u001b[0m\u001b[0;34m\u001b[0m\u001b[0m\n\u001b[0;32m----> 6\u001b[0;31m     \u001b[0mdata\u001b[0m \u001b[0;34m=\u001b[0m \u001b[0mnp\u001b[0m\u001b[0;34m.\u001b[0m\u001b[0mload\u001b[0m\u001b[0;34m(\u001b[0m\u001b[0mfile_path\u001b[0m\u001b[0;34m)\u001b[0m  \u001b[0;31m# Форма данных: (num_samples, 4)\u001b[0m\u001b[0;34m\u001b[0m\u001b[0;34m\u001b[0m\u001b[0m\n\u001b[0m\u001b[1;32m      7\u001b[0m \u001b[0;34m\u001b[0m\u001b[0m\n\u001b[1;32m      8\u001b[0m     \u001b[0;31m# Получаем число временных фреймов\u001b[0m\u001b[0;34m\u001b[0m\u001b[0;34m\u001b[0m\u001b[0m\n",
            "\u001b[0;32m/usr/local/lib/python3.10/dist-packages/numpy/lib/npyio.py\u001b[0m in \u001b[0;36mload\u001b[0;34m(file, mmap_mode, allow_pickle, fix_imports, encoding, max_header_size)\u001b[0m\n\u001b[1;32m    425\u001b[0m             \u001b[0mown_fid\u001b[0m \u001b[0;34m=\u001b[0m \u001b[0;32mFalse\u001b[0m\u001b[0;34m\u001b[0m\u001b[0;34m\u001b[0m\u001b[0m\n\u001b[1;32m    426\u001b[0m         \u001b[0;32melse\u001b[0m\u001b[0;34m:\u001b[0m\u001b[0;34m\u001b[0m\u001b[0;34m\u001b[0m\u001b[0m\n\u001b[0;32m--> 427\u001b[0;31m             \u001b[0mfid\u001b[0m \u001b[0;34m=\u001b[0m \u001b[0mstack\u001b[0m\u001b[0;34m.\u001b[0m\u001b[0menter_context\u001b[0m\u001b[0;34m(\u001b[0m\u001b[0mopen\u001b[0m\u001b[0;34m(\u001b[0m\u001b[0mos_fspath\u001b[0m\u001b[0;34m(\u001b[0m\u001b[0mfile\u001b[0m\u001b[0;34m)\u001b[0m\u001b[0;34m,\u001b[0m \u001b[0;34m\"rb\"\u001b[0m\u001b[0;34m)\u001b[0m\u001b[0;34m)\u001b[0m\u001b[0;34m\u001b[0m\u001b[0;34m\u001b[0m\u001b[0m\n\u001b[0m\u001b[1;32m    428\u001b[0m             \u001b[0mown_fid\u001b[0m \u001b[0;34m=\u001b[0m \u001b[0;32mTrue\u001b[0m\u001b[0;34m\u001b[0m\u001b[0;34m\u001b[0m\u001b[0m\n\u001b[1;32m    429\u001b[0m \u001b[0;34m\u001b[0m\u001b[0m\n",
            "\u001b[0;31mFileNotFoundError\u001b[0m: [Errno 2] No such file or directory: 'path_to_your_input_file.npy'"
          ]
        }
      ],
      "source": [
        "import numpy as np\n",
        "import librosa\n",
        "\n",
        "def apply_stft_to_numpy_file(file_path, output_path, n_fft=512, hop_length=256):\n",
        "    # Загрузка numpy файла (предположим, что это одномерный массив для 1 секунды с 4 каналами)\n",
        "    data = np.load(file_path)  # Форма данных: (num_samples, 4)\n",
        "\n",
        "    # Получаем число временных фреймов\n",
        "    num_samples, num_channels = data.shape\n",
        "    num_time_frames = (num_samples - n_fft) // hop_length + 1\n",
        "    num_frequency_bins = n_fft // 2 + 1\n",
        "\n",
        "    # Создаем пустой массив для хранения результатов STFT\n",
        "    stft_data = np.zeros((num_time_frames, num_frequency_bins, num_channels))\n",
        "\n",
        "    # Применяем STFT для каждого канала\n",
        "    for channel_idx in range(num_channels):\n",
        "        channel_data = data[:, channel_idx]\n",
        "\n",
        "        # Применяем STFT для канала\n",
        "        stft_result = librosa.stft(channel_data, n_fft=n_fft, hop_length=hop_length)\n",
        "\n",
        "        # Берем амплитуду (модуль спектра) и сохраняем\n",
        "        stft_data[:, :, channel_idx] = np.abs(stft_result.T)  # Транспонируем для согласования формы\n",
        "\n",
        "    # Создаем словарь для хранения формы и данных\n",
        "    result = {\n",
        "        'num_samples': num_samples,\n",
        "        'num_time_frames': num_time_frames,\n",
        "        'num_frequency_bins': num_frequency_bins,\n",
        "        'stft_data': stft_data\n",
        "    }\n",
        "\n",
        "    # Сохраняем результат в numpy файл\n",
        "    np.save(output_path, result)\n",
        "\n",
        "    print(f'Данные сохранены в файл: {output_path}')\n",
        "\n",
        "# Пример использования:\n",
        "file_path = 'path_to_your_input_file.npy'  # Замените на путь к вашему numpy файлу\n",
        "output_path = 'path_to_your_output_file.npy'  # Замените на путь для сохранения результата\n",
        "\n",
        "apply_stft_to_numpy_file(file_path, output_path)\n"
      ]
    }
  ]
}